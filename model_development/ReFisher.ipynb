{
 "cells": [
  {
   "cell_type": "markdown",
   "metadata": {},
   "source": [
    "# Proyek ReFisher\n",
    "\n",
    "- **Nama:** [Nama Anda]\n",
    "- **Dataset:** Fish Fresh and Non-Fresh Roboflow\n",
    "- **Tujuan:** Membangun model klasifikasi gambar untuk membedakan ikan segar dan tidak segar.\n",
    "- **Framework:** TensorFlow/Keras\""
   ]
  },
  {
   "cell_type": "markdown",
   "metadata": {},
   "source": [
    "## 1. Import Libraries\n",
    "Impor semua library yang dibutuhkan untuk pemrosesan data, visualisasi, dan persiapan model."
   ]
  },
  {
   "cell_type": "code",
   "execution_count": null,
   "metadata": {},
   "outputs": [],
   "source": [
    "import os\n",
    "import numpy as np\n",
    "import tensorflow as tf\n",
    "from tensorflow import keras\n",
    "from tensorflow.keras import layers\n",
    "from tensorflow.keras.preprocessing import image_dataset_from_directory\n",
    "import matplotlib.pyplot as plt\n",
    "import matplotlib.image as mpimg\n",
    "import pathlib"
   ]
  },
  {
   "cell_type": "markdown",
   "metadata": {},
   "source": [
    "## 2. Unduh dan Ekstrak Dataset\n",
    "Dataset diunduh dari Github Repo dan diekstrak ke environtment."
   ]
  }
 ],
 "metadata": {
  "kernelspec": {
   "display_name": "Python 3",
   "language": "python",
   "name": "python3"
  },
  "language_info": {
   "name": "python",
   "version": "3.13.2"
  }
 },
 "nbformat": 4,
 "nbformat_minor": 2
}
